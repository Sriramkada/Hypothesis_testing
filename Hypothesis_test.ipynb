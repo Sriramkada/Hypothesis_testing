{
  "nbformat": 4,
  "nbformat_minor": 0,
  "metadata": {
    "colab": {
      "provenance": []
    },
    "kernelspec": {
      "name": "python3",
      "display_name": "Python 3"
    },
    "language_info": {
      "name": "python"
    }
  },
  "cells": [
    {
      "cell_type": "code",
      "execution_count": 1,
      "metadata": {
        "id": "BUdA6YKuvpNp"
      },
      "outputs": [],
      "source": [
        "import math\n",
        "from scipy.stats import norm\n",
        "\n"
      ]
    },
    {
      "cell_type": "code",
      "source": [
        "print(\"1. Hypothesis Statement:\")\n",
        "print(\"   -Null Hypothesis (H0): The mean weekly operating cost is less than or equal to theoretical model.\")\n",
        "print(\"       H0: μ ≤ $4,000\")\n",
        "print(\"   -Alternate Hypothesis (H1): The mean weekly operating cost is greater than theoretical model.\")\n",
        "print(\"       H:1 μ > $4,000\\n\")"
      ],
      "metadata": {
        "colab": {
          "base_uri": "https://localhost:8080/"
        },
        "id": "104ihS3DxPrr",
        "outputId": "28c2bedb-efda-47d7-8848-1b0f4caf1604"
      },
      "execution_count": 2,
      "outputs": [
        {
          "output_type": "stream",
          "name": "stdout",
          "text": [
            "1. Hypothesis Statement:\n",
            "   -Null Hypothesis (H0): The mean weekly operating cost is less than or equal to theoretical model.\n",
            "       H0: μ ≤ $4,000\n",
            "   -Alternate Hypothesis (H1): The mean weekly operating cost is greater than theoretical model.\n",
            "       H:1 μ > $4,000\n",
            "\n"
          ]
        }
      ]
    },
    {
      "cell_type": "code",
      "source": [
        "sample_mean = 3050\n",
        "theoritical_mean = 1000 + 5 * 600\n",
        "sigma_X = 25\n",
        "sigma_W = 5 * sigma_X\n",
        "n = 25"
      ],
      "metadata": {
        "id": "u8RCca1wyhlO"
      },
      "execution_count": 3,
      "outputs": []
    },
    {
      "cell_type": "code",
      "source": [
        "theoretical_mean = 1000 + 5 * 600"
      ],
      "metadata": {
        "id": "bu-YCIEwzlM6"
      },
      "execution_count": 4,
      "outputs": []
    },
    {
      "cell_type": "code",
      "source": [
        "standard_error = sigma_W / math.sqrt(n)"
      ],
      "metadata": {
        "id": "ILYiSHkPzusv"
      },
      "execution_count": 5,
      "outputs": []
    },
    {
      "cell_type": "code",
      "source": [
        "z_score = (sample_mean - theoretical_mean) / standard_error"
      ],
      "metadata": {
        "id": "IJfCZL9mz2nk"
      },
      "execution_count": 6,
      "outputs": []
    },
    {
      "cell_type": "code",
      "source": [
        "print(\"2. Calculations:\")\n",
        "print(f\"   -Sample Mean (x̄): {sample_mean}\")\n",
        "print(f\"   -Theoretical Mean (μ): {theoretical_mean}\")\n",
        "print(f\"   -Standard Deviation (σ): {sigma_W}\")\n",
        "print(f\"   -Sample Size (n): {n}\")\n",
        "print(f\"   -Standard Error (SE): {standard_error:.4f}\")\n",
        "print(f\"   -Test Statistic (Z): {z_score:.4f}\\n\")"
      ],
      "metadata": {
        "colab": {
          "base_uri": "https://localhost:8080/"
        },
        "id": "Hf711dcmz80s",
        "outputId": "efc377c6-f2d8-4aa4-8feb-57d227968289"
      },
      "execution_count": 7,
      "outputs": [
        {
          "output_type": "stream",
          "name": "stdout",
          "text": [
            "2. Calculations:\n",
            "   -Sample Mean (x̄): 3050\n",
            "   -Theoretical Mean (μ): 4000\n",
            "   -Standard Deviation (σ): 125\n",
            "   -Sample Size (n): 25\n",
            "   -Standard Error (SE): 25.0000\n",
            "   -Test Statistic (Z): -38.0000\n",
            "\n"
          ]
        }
      ]
    },
    {
      "cell_type": "code",
      "source": [
        "alpha = 0.05"
      ],
      "metadata": {
        "id": "1wfMtOe41Io5"
      },
      "execution_count": 8,
      "outputs": []
    },
    {
      "cell_type": "code",
      "source": [
        "critical_value = norm.ppf(1 -alpha)\n",
        "\n",
        "print(\"3. Critical Value:\")\n",
        "print(f\"   -significance Level (α): {alpha}\")\n",
        "print(f\"   -Critical Z-Value for one-tailed test: {critical_value:.4f}\\n\")"
      ],
      "metadata": {
        "colab": {
          "base_uri": "https://localhost:8080/"
        },
        "id": "sCDkNU_a1NGy",
        "outputId": "31a8c878-7bca-4d91-c013-c4f303eed0ee"
      },
      "execution_count": 9,
      "outputs": [
        {
          "output_type": "stream",
          "name": "stdout",
          "text": [
            "3. Critical Value:\n",
            "   -significance Level (α): 0.05\n",
            "   -Critical Z-Value for one-tailed test: 1.6449\n",
            "\n"
          ]
        }
      ]
    },
    {
      "cell_type": "code",
      "source": [
        "print(\"4. Decision:\")\n",
        "print(f\"  - Calculated Z-score: {z_score:.4f}\")\n",
        "print(f\"  - Calculated Z-value: {critical_value:.4f}\")\n",
        "\n",
        "if z_score > critical_value:\n",
        "    print(\"  -Since the calculated Z-score is greater than the critical Z-value, we reject the null hypothesis.\")\n",
        "    decision = \"reject\"\n",
        "\n",
        "else:\n",
        "  print(\"  -Since the calculated Z-score is less than or equal to the critical Z-value, we fail to reject the null hypothesis.\")\n",
        "  decision = \"fail to reject\"\n"
      ],
      "metadata": {
        "colab": {
          "base_uri": "https://localhost:8080/"
        },
        "id": "R6ulRVlq2t4M",
        "outputId": "f8c551ee-6024-4f1f-f062-b81282e3522a"
      },
      "execution_count": 10,
      "outputs": [
        {
          "output_type": "stream",
          "name": "stdout",
          "text": [
            "4. Decision:\n",
            "  - Calculated Z-score: -38.0000\n",
            "  - Calculated Z-value: 1.6449\n",
            "  -Since the calculated Z-score is less than or equal to the critical Z-value, we fail to reject the null hypothesis.\n"
          ]
        }
      ]
    },
    {
      "cell_type": "code",
      "source": [
        "print(\"\\n5. Conclusion:\")\n",
        "if decision == \"reject\":\n",
        "    print(\"   Based on the hypothesis test, there is sufficient evidence to support the restaurant owners' claim that the weekly operating costs are higher than the model suggests.\")\n",
        "else:\n",
        "    print(\"   Based on the hypothesis test, there is insufficient evidence to support the restaurant owners' claim that the weekly operating costs are higher than the model suggests.\")"
      ],
      "metadata": {
        "colab": {
          "base_uri": "https://localhost:8080/"
        },
        "id": "FtAHbJRI31E4",
        "outputId": "8e4993d8-5800-4e57-a98b-78a281cfb732"
      },
      "execution_count": 11,
      "outputs": [
        {
          "output_type": "stream",
          "name": "stdout",
          "text": [
            "\n",
            "5. Conclusion:\n",
            "   Based on the hypothesis test, there is insufficient evidence to support the restaurant owners' claim that the weekly operating costs are higher than the model suggests.\n"
          ]
        }
      ]
    }
  ]
}